{
 "cells": [
  {
   "cell_type": "markdown",
   "id": "e1b25b1b-9e4d-4c5d-addc-ee5be519f997",
   "metadata": {},
   "source": [
    "# Tic Tac Toe Game: "
   ]
  },
  {
   "cell_type": "markdown",
   "id": "1cc69567-d0b2-4adb-b916-47637e713675",
   "metadata": {},
   "source": [
    "**This is a simple project which contains these steps:**\n",
    "1. *Display Information*\n",
    "2. *Accepting User Input*\n",
    "3. *Validating User Input*\n",
    "4. *Simple User Interaction*"
   ]
  },
  {
   "cell_type": "markdown",
   "id": "5347153a-7a84-4ddc-8356-47ff0ecc0fb8",
   "metadata": {},
   "source": [
    "**To start this project, I have to built a Display Board for our Tic Tac Toe Game.**"
   ]
  },
  {
   "cell_type": "markdown",
   "id": "dcf41d95-ca23-44d4-bcc3-37499a9f5b26",
   "metadata": {},
   "source": [
    "**For that I imported \"clear_output\" from the \"IPython.display\" Library.\n",
    "The thing is the \"clear_output\" only works in Jupyter NoteBook on which I developed this game.**"
   ]
  },
  {
   "cell_type": "markdown",
   "id": "b08056de-c6b8-4163-9a35-2b41ce3b1f50",
   "metadata": {},
   "source": [
    "**I created a function that can print out a board named as \"display_board\".\n",
    "Then I set up my board as a list, where each index 1-9 corresponds with a number on a number pad, so you get a 3 by 3 board representation.**"
   ]
  },
  {
   "cell_type": "code",
   "execution_count": 4,
   "id": "4522475e-2801-4df6-84c5-8bdb3147677e",
   "metadata": {},
   "outputs": [],
   "source": [
    "from IPython.display import clear_output\n",
    "\n",
    "def display_board(board):\n",
    "    clear_output() \n",
    "    \n",
    "    print('   |   |')\n",
    "    print(' ' + board[7] + ' | ' + board[8] + ' | ' + board[9])\n",
    "    print('   |   |')\n",
    "    print('-----------')\n",
    "    print('   |   |')\n",
    "    print(' ' + board[4] + ' | ' + board[5] + ' | ' + board[6])\n",
    "    print('   |   |')\n",
    "    print('-----------')\n",
    "    print('   |   |')\n",
    "    print(' ' + board[1] + ' | ' + board[2] + ' | ' + board[3])\n",
    "    print('   |   |')"
   ]
  },
  {
   "cell_type": "markdown",
   "id": "8fea6225-ee05-49e0-b477-a382f9c6d2d0",
   "metadata": {},
   "source": [
    "**Testing is also important as it shows wheather we are getting our desired output or not.**"
   ]
  },
  {
   "cell_type": "markdown",
   "id": "5bfeda45-f093-4c2e-94b8-fa722d8b4cfd",
   "metadata": {},
   "source": [
    "**So I started my very first test to check our \"display_board\" is working fine or not.**"
   ]
  },
  {
   "cell_type": "code",
   "execution_count": 5,
   "id": "f019ca1b-4b00-43f8-96ab-26c841a6e85d",
   "metadata": {},
   "outputs": [
    {
     "name": "stdout",
     "output_type": "stream",
     "text": [
      "   |   |\n",
      " X | O | X\n",
      "   |   |\n",
      "-----------\n",
      "   |   |\n",
      " O | X | O\n",
      "   |   |\n",
      "-----------\n",
      "   |   |\n",
      " X | O | X\n",
      "   |   |\n"
     ]
    }
   ],
   "source": [
    "test_board = ['#','X','O','X','O','X','O','X','O','X']\n",
    "display_board(test_board)"
   ]
  },
  {
   "cell_type": "markdown",
   "id": "9886a2fb-15da-4037-ad8e-d06e20ff69f1",
   "metadata": {},
   "source": [
    "**As it works fine so then we move to create a player input and assign their player_id as \"X\" or \"O\".**\n",
    "\n",
    "*In this process the \"while loops\" plays a crucial role.*"
   ]
  },
  {
   "cell_type": "code",
   "execution_count": 6,
   "id": "6064728f-d3f9-45aa-964f-c84bf95de882",
   "metadata": {},
   "outputs": [],
   "source": [
    "def player_input():\n",
    "    player_id = ''\n",
    "    \n",
    "    while not (player_id == 'O' or player_id == 'X'):\n",
    "        player_id = input('Player 1: Do you want to be O or X? ').upper()\n",
    "\n",
    "    if player_id == 'O':\n",
    "        return ('O', 'X')\n",
    "    else:\n",
    "        return ('X', 'O')"
   ]
  },
  {
   "cell_type": "markdown",
   "id": "8e917faa-48bd-4906-aa81-3f0c2f4f91bf",
   "metadata": {},
   "source": [
    "**Now we will test it for the second time by making sure we get the desired output.**"
   ]
  },
  {
   "cell_type": "code",
   "execution_count": 7,
   "id": "f0078ec7-7e7c-4471-9431-82e738edef1b",
   "metadata": {},
   "outputs": [
    {
     "name": "stdin",
     "output_type": "stream",
     "text": [
      "Player 1: Do you want to be O or X?  1\n",
      "Player 1: Do you want to be O or X?  O\n"
     ]
    },
    {
     "data": {
      "text/plain": [
       "('O', 'X')"
      ]
     },
     "execution_count": 7,
     "metadata": {},
     "output_type": "execute_result"
    }
   ],
   "source": [
    "player_input()"
   ]
  },
  {
   "cell_type": "markdown",
   "id": "ac9883f0-fbba-4a62-8bfa-b1099f6cd725",
   "metadata": {},
   "source": [
    "*Notice! We only get what the program wanted us to choose as I mistype int(1) in the input panel but the program asked me again the desired output without breaking that's where \"while loops\" are useful.*"
   ]
  },
  {
   "cell_type": "markdown",
   "id": "243017a0-5a18-4318-9b0b-ab1cb4715170",
   "metadata": {},
   "source": [
    "**Now I have created a function that takes in the board list object, a player_id(\"O\" or \"X\"), and a desired position(from 1 to 9) and assigns it to the board.**"
   ]
  },
  {
   "cell_type": "code",
   "execution_count": 14,
   "id": "0f4eb331-ddea-4a3f-b0ee-813da04aadf9",
   "metadata": {},
   "outputs": [],
   "source": [
    "def place_marker(board, marker , position):\n",
    "    board[position] = marker"
   ]
  },
  {
   "cell_type": "markdown",
   "id": "a954d3eb-52d9-4c0e-83f6-ce7e35da8643",
   "metadata": {},
   "source": [
    "**Now we will test our program for the third time to test the parameters and display are working fine or not.**"
   ]
  },
  {
   "cell_type": "code",
   "execution_count": 15,
   "id": "af0e7082-74c3-46e2-b29b-4b4a792a8ef3",
   "metadata": {},
   "outputs": [
    {
     "name": "stdout",
     "output_type": "stream",
     "text": [
      "   |   |\n",
      " X | R | X\n",
      "   |   |\n",
      "-----------\n",
      "   |   |\n",
      " O | X | O\n",
      "   |   |\n",
      "-----------\n",
      "   |   |\n",
      " X | O | X\n",
      "   |   |\n"
     ]
    }
   ],
   "source": [
    "place_marker(test_board,'R',8)\n",
    "display_board(test_board)"
   ]
  },
  {
   "cell_type": "markdown",
   "id": "716c46a1-7def-45ff-91f5-a37dc7488a59",
   "metadata": {},
   "source": [
    "**So here we can see I got the desired outputs with the \"python indexing\" where, \n",
    "we get:**\n",
    "\n",
    "test_board means the test_board\n",
    "\n",
    "'R' means the marker and\n",
    "\n",
    "int(8) means the position on which out variable will land."
   ]
  },
  {
   "cell_type": "markdown",
   "id": "b35303d2-dcfa-4c2f-b27c-3fbb784ddba2",
   "metadata": {},
   "source": [
    "**Now I have created a function that takes in a board and checks to see if someone has won.**"
   ]
  },
  {
   "cell_type": "code",
   "execution_count": 16,
   "id": "ad7bda21-d8b5-47ed-9f84-bedcbddb6b24",
   "metadata": {},
   "outputs": [],
   "source": [
    "def win_check(board,mark):\n",
    "    \n",
    "    return ((board[7] == mark and board[8] == mark and board[9] == mark) or # across the top\n",
    "    (board[4] == mark and board[5] == mark and board[6] == mark) or # across the middle\n",
    "    (board[1] == mark and board[2] == mark and board[3] == mark) or # across the bottom\n",
    "    (board[7] == mark and board[4] == mark and board[1] == mark) or # down the middle\n",
    "    (board[8] == mark and board[5] == mark and board[2] == mark) or # down the middle\n",
    "    (board[9] == mark and board[6] == mark and board[3] == mark) or # down the right side\n",
    "    (board[7] == mark and board[5] == mark and board[3] == mark) or # diagonal\n",
    "    (board[9] == mark and board[5] == mark and board[1] == mark)) # diagonal"
   ]
  },
  {
   "cell_type": "markdown",
   "id": "746d3c18-ed17-49e5-881c-4fdb9a1c2751",
   "metadata": {},
   "source": [
    "**Now we test our program for the forth time to run the win_check function against our test_board - it should return True**"
   ]
  },
  {
   "cell_type": "code",
   "execution_count": 17,
   "id": "e2e4d8d9-fc4f-4319-8313-a01caddc892c",
   "metadata": {},
   "outputs": [
    {
     "data": {
      "text/plain": [
       "True"
      ]
     },
     "execution_count": 17,
     "metadata": {},
     "output_type": "execute_result"
    }
   ],
   "source": [
    "win_check(test_board,\"X\")"
   ]
  },
  {
   "cell_type": "markdown",
   "id": "b617cfdd-64b8-4b80-91f6-ef0d291fe76c",
   "metadata": {},
   "source": [
    "**Now I created a function that uses the random module to randomly decide which player goes first. You may want to lookup random.randint() Return a string of which player went first.**"
   ]
  },
  {
   "cell_type": "code",
   "execution_count": 18,
   "id": "ccff1c91-a4d5-45ec-b810-0f46bc366c31",
   "metadata": {},
   "outputs": [],
   "source": [
    "import random\n",
    "\n",
    "def choose_first():\n",
    "    if random.randint(0, 1) == 0:\n",
    "        return 'Player 2'\n",
    "    else:\n",
    "        return 'Player 1'"
   ]
  },
  {
   "cell_type": "markdown",
   "id": "6f3dd388-fa30-454b-a5ee-373352f43290",
   "metadata": {},
   "source": [
    "**Now I created a function that returns a boolean indicating whether a space on the board is freely available.**"
   ]
  },
  {
   "cell_type": "code",
   "execution_count": 19,
   "id": "80fd852c-ef2f-49c9-94e2-fc7e1912fe9c",
   "metadata": {},
   "outputs": [],
   "source": [
    "def space_check(board, position):\n",
    "    \n",
    "    return board[position] == ' '"
   ]
  },
  {
   "cell_type": "markdown",
   "id": "3a93fa41-85a4-4ef6-9264-b7af45d9bbc4",
   "metadata": {},
   "source": [
    "**Now I created a function that checks if the board is full and returns a boolean value.**\n",
    "\n",
    "True if full, False otherwise."
   ]
  },
  {
   "cell_type": "code",
   "execution_count": 20,
   "id": "9b41c2bf-6763-4b2b-b05e-6ff626951d6f",
   "metadata": {},
   "outputs": [],
   "source": [
    "def full_board_check(board):\n",
    "    for i in range(1,10):\n",
    "        if space_check(board, i):\n",
    "            return False\n",
    "    return True"
   ]
  },
  {
   "cell_type": "markdown",
   "id": "a20d1488-09be-496f-8aa8-2eac29719daa",
   "metadata": {},
   "source": [
    "**Now I created a function that asks for a player's next position (as a number 1-9) and then uses the function from step 6 to check if its a free position. If it is, then return the position for later use.**"
   ]
  },
  {
   "cell_type": "code",
   "execution_count": 21,
   "id": "e7f765b7-5536-4795-a411-5b0735ab7167",
   "metadata": {},
   "outputs": [],
   "source": [
    "def player_choice(board):\n",
    "    position = 0\n",
    "    \n",
    "    while position not in [1,2,3,4,5,6,7,8,9] or not space_check(board, position):\n",
    "        position = int(input('Choose your next position: (1-9) '))\n",
    "        \n",
    "    return position"
   ]
  },
  {
   "cell_type": "markdown",
   "id": "98cbffb5-50e4-46d9-9bc3-fe746c1f6e73",
   "metadata": {},
   "source": [
    "**Now I created a function that asks the player if they want to play again and returns a boolean True if they do want to play again.**"
   ]
  },
  {
   "cell_type": "code",
   "execution_count": 22,
   "id": "edaa8666-23c7-426d-9db9-5e81e1a2f03c",
   "metadata": {},
   "outputs": [],
   "source": [
    "def replay():\n",
    "    \n",
    "    return input('Do you want to play again? Enter Yes or No: ').lower().startswith('y')"
   ]
  },
  {
   "cell_type": "markdown",
   "id": "f238214e-314a-4f06-bac2-c083306db618",
   "metadata": {},
   "source": [
    "**At last I created a full print statement for my display_board!**\n",
    "\n",
    "*Using while loops and the functions I have made to run the game!*"
   ]
  },
  {
   "cell_type": "code",
   "execution_count": 23,
   "id": "44676217-1f24-4cd3-87a0-b265b5d4f4bc",
   "metadata": {},
   "outputs": [
    {
     "name": "stdout",
     "output_type": "stream",
     "text": [
      "   |   |\n",
      " X | O | X\n",
      "   |   |\n",
      "-----------\n",
      "   |   |\n",
      " X | O | O\n",
      "   |   |\n",
      "-----------\n",
      "   |   |\n",
      " O | O | X\n",
      "   |   |\n",
      "Congratulations! You have won the game!\n"
     ]
    },
    {
     "name": "stdin",
     "output_type": "stream",
     "text": [
      "Do you want to play again? Enter Yes or No:  No\n"
     ]
    }
   ],
   "source": [
    "print('Welcome to Tic Tac Toe!')\n",
    "\n",
    "while True:\n",
    "    # Reset the board\n",
    "    theBoard = [' '] * 10\n",
    "    player1_marker, player2_marker = player_input()\n",
    "    turn = choose_first()\n",
    "    print(turn + ' will go first.')\n",
    "    \n",
    "    play_game = input('Are you ready to play? Enter Yes or No.')\n",
    "    \n",
    "    if play_game.lower()[0] == 'y':\n",
    "        game_on = True\n",
    "    else:\n",
    "        game_on = False\n",
    "\n",
    "    while game_on:\n",
    "        if turn == 'Player 1':\n",
    "            # Player1's turn.\n",
    "            \n",
    "            display_board(theBoard)\n",
    "            position = player_choice(theBoard)\n",
    "            place_marker(theBoard, player1_marker, position)\n",
    "\n",
    "            if win_check(theBoard, player1_marker):\n",
    "                display_board(theBoard)\n",
    "                print('Congratulations! You have won the game!')\n",
    "                game_on = False\n",
    "            else:\n",
    "                if full_board_check(theBoard):\n",
    "                    display_board(theBoard)\n",
    "                    print('The game is a draw!')\n",
    "                    break\n",
    "                else:\n",
    "                    turn = 'Player 2'\n",
    "\n",
    "        else:\n",
    "            # Player2's turn.\n",
    "            \n",
    "            display_board(theBoard)\n",
    "            position = player_choice(theBoard)\n",
    "            place_marker(theBoard, player2_marker, position)\n",
    "\n",
    "            if win_check(theBoard, player2_marker):\n",
    "                display_board(theBoard)\n",
    "                print('Player 2 has won!')\n",
    "                game_on = False\n",
    "            else:\n",
    "                if full_board_check(theBoard):\n",
    "                    display_board(theBoard)\n",
    "                    print('The game is a draw!')\n",
    "                    break\n",
    "                else:\n",
    "                    turn = 'Player 1'\n",
    "\n",
    "    if not replay():\n",
    "        break"
   ]
  },
  {
   "cell_type": "markdown",
   "id": "18e6a0c6-1fd9-46aa-b1fa-c40ad1026ac5",
   "metadata": {},
   "source": [
    "**Hence, This is the simple user-interactive \"Tic Tac Toe Game\" I created using the Python Interface on Jupyter Notebook.**"
   ]
  },
  {
   "cell_type": "markdown",
   "id": "07614411-f3f7-45e8-867b-16fdb6611633",
   "metadata": {},
   "source": [
    "# Thank you for looking at this Game NoteBook I appreciate your precious time."
   ]
  }
 ],
 "metadata": {
  "kernelspec": {
   "display_name": "Python 3 (ipykernel)",
   "language": "python",
   "name": "python3"
  },
  "language_info": {
   "codemirror_mode": {
    "name": "ipython",
    "version": 3
   },
   "file_extension": ".py",
   "mimetype": "text/x-python",
   "name": "python",
   "nbconvert_exporter": "python",
   "pygments_lexer": "ipython3",
   "version": "3.12.4"
  }
 },
 "nbformat": 4,
 "nbformat_minor": 5
}
